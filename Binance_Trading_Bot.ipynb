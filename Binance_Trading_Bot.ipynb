{
  "cells": [
    {
      "cell_type": "code",
      "metadata": {
        "id": "q_0SHW22ZDe4"
      },
      "source": [
        "!pip install python-binance"
      ],
      "execution_count": null,
      "outputs": []
    },
    {
      "cell_type": "code",
      "metadata": {
        "id": "etiQ8GhxZDe5"
      },
      "source": [
        "from binance.client import Client\n",
        "from binance.enums import *\n",
        "import logging\n",
        "\n",
        "# Enable logging\n",
        "logging.basicConfig(level=logging.INFO, filename='bot.log',\n",
        "                    format='%(asctime)s - %(levelname)s - %(message)s')\n",
        "\n",
        "# Provide your testnet API credentials\n",
        "api_key = 'Type API_key'\n",
        "api_secret = 'type api_secret '\n",
        "\n",
        "# Use Testnet URL\n",
        "testnet_url = 'https://testnet.binancefuture.com'\n",
        "\n",
        "# Create client with testnet configuration\n",
        "client = Client(api_key, api_secret)\n",
        "client.FUTURES_URL = testnet_url"
      ],
      "execution_count": null,
      "outputs": []
    },
    {
      "cell_type": "code",
      "metadata": {
        "id": "lu15-4L-ZDe6"
      },
      "source": [
        "class BasicBot:\n",
        "    def __init__(self, client):\n",
        "        self.client = client\n",
        "\n",
        "    def place_order(self, symbol, side, order_type, quantity, price=None):\n",
        "        try:\n",
        "            if order_type == 'MARKET':\n",
        "                order = self.client.futures_create_order(\n",
        "                    symbol=symbol,\n",
        "                    side=SIDE_BUY if side == 'BUY' else SIDE_SELL,\n",
        "                    type=ORDER_TYPE_MARKET,\n",
        "                    quantity=quantity\n",
        "                )\n",
        "            elif order_type == 'LIMIT':\n",
        "                order = self.client.futures_create_order(\n",
        "                    symbol=symbol,\n",
        "                    side=SIDE_BUY if side == 'BUY' else SIDE_SELL,\n",
        "                    type=ORDER_TYPE_LIMIT,\n",
        "                    timeInForce=TIME_IN_FORCE_GTC,\n",
        "                    quantity=quantity,\n",
        "                    price=price\n",
        "                )\n",
        "            else:\n",
        "                raise ValueError(\"Unsupported order type.\")\n",
        "\n",
        "            logging.info(f\"Order placed: {order}\")\n",
        "            print(\"Order executed:\", order)\n",
        "            return order\n",
        "\n",
        "        except Exception as e:\n",
        "            logging.error(f\"Order failed: {e}\")\n",
        "            print(\"Error placing order:\", e)\n",
        "            return None"
      ],
      "execution_count": null,
      "outputs": []
    },
    {
      "cell_type": "code",
      "metadata": {
        "id": "pXnweNYXZDe6"
      },
      "source": [
        "# Simulated CLI via input cells\n",
        "symbol = input(\"Enter symbol (e.g., BTCUSDT): \" ).upper()\n",
        "side = input(\"Enter side (BUY or SELL): \" ).upper()\n",
        "order_type = input(\"Enter order type (MARKET or LIMIT): \" ).upper()\n",
        "quantity = float(input(\"Enter quantity: \"))\n",
        "\n",
        "price = None\n",
        "if order_type == 'LIMIT':\n",
        "    price = input(\"Enter price: \" )\n",
        "\n",
        "bot = BasicBot(client)\n",
        "bot.place_order(symbol, side, order_type, quantity, price)"
      ],
      "execution_count": null,
      "outputs": []
    }
  ],
  "metadata": {
    "colab": {
      "provenance": []
    },
    "kernelspec": {
      "display_name": "Python 3",
      "language": "python",
      "name": "python3"
    },
    "language_info": {
      "name": "python",
      "version": "3.x"
    }
  },
  "nbformat": 4,
  "nbformat_minor": 0
}